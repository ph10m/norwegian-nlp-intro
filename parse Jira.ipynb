{
 "cells": [
  {
   "cell_type": "markdown",
   "id": "e946e4e5-f6c5-4bc8-ac3f-22c08cdb1597",
   "metadata": {},
   "source": [
    "# Modelltrening for å gjette NVDBJira tasks"
   ]
  },
  {
   "cell_type": "code",
   "execution_count": 61,
   "id": "7850e801-2763-4475-9473-e88bbef951c5",
   "metadata": {},
   "outputs": [],
   "source": [
    "# -*- coding: utf-8 -*-\n",
    "import pandas as pd\n",
    "import numpy as np\n",
    "import matplotlib.pyplot as plt\n",
    "import spacy\n",
    "import os\n",
    "import sys\n",
    "import re\n",
    "import operator"
   ]
  },
  {
   "cell_type": "markdown",
   "id": "546c5345-74b9-4682-bd20-f16868368946",
   "metadata": {},
   "source": [
    "## Hent inn jira-data\n",
    "- fjern null-verdier og inspiser datasett"
   ]
  },
  {
   "cell_type": "code",
   "execution_count": 62,
   "id": "cccf32d4-7af4-4d5b-97af-7aad7339730d",
   "metadata": {},
   "outputs": [],
   "source": [
    "jira = os.path.join(os.getcwd(), 'data', 'jira.csv')\n",
    "df = pd.read_csv(jira, usecols=[\"Description\", \"Component/s\"])\n",
    "df.columns = ['text', 'label']"
   ]
  },
  {
   "cell_type": "code",
   "execution_count": 63,
   "id": "edfde8e6-21ed-4e1c-9fcf-0141c491f88f",
   "metadata": {},
   "outputs": [
    {
     "data": {
      "text/html": [
       "<div>\n",
       "<style scoped>\n",
       "    .dataframe tbody tr th:only-of-type {\n",
       "        vertical-align: middle;\n",
       "    }\n",
       "\n",
       "    .dataframe tbody tr th {\n",
       "        vertical-align: top;\n",
       "    }\n",
       "\n",
       "    .dataframe thead th {\n",
       "        text-align: right;\n",
       "    }\n",
       "</style>\n",
       "<table border=\"1\" class=\"dataframe\">\n",
       "  <thead>\n",
       "    <tr style=\"text-align: right;\">\n",
       "      <th></th>\n",
       "      <th>text</th>\n",
       "      <th>label</th>\n",
       "    </tr>\n",
       "  </thead>\n",
       "  <tbody>\n",
       "    <tr>\n",
       "      <th>0</th>\n",
       "      <td>Som bruker av Datafangst\\r\\n\\r\\nønsker jeg å k...</td>\n",
       "      <td>Datafangst</td>\n",
       "    </tr>\n",
       "    <tr>\n",
       "      <th>1</th>\n",
       "      <td>Jeg lager en sak her for å ha en utviklersak s...</td>\n",
       "      <td>Les-API</td>\n",
       "    </tr>\n",
       "    <tr>\n",
       "      <th>2</th>\n",
       "      <td>Ved import av objekter med sensitive egenskape...</td>\n",
       "      <td>Datafangst</td>\n",
       "    </tr>\n",
       "    <tr>\n",
       "      <th>3</th>\n",
       "      <td>Som bruker av Vegkart-eskport\\r\\n\\r\\nopplever ...</td>\n",
       "      <td>Eksport</td>\n",
       "    </tr>\n",
       "    <tr>\n",
       "      <th>4</th>\n",
       "      <td>Årsaken til at vi ser etter en måte å få et ko...</td>\n",
       "      <td>Les-API</td>\n",
       "    </tr>\n",
       "    <tr>\n",
       "      <th>...</th>\n",
       "      <td>...</td>\n",
       "      <td>...</td>\n",
       "    </tr>\n",
       "    <tr>\n",
       "      <th>919</th>\n",
       "      <td>TS-lint er deprecated: [https://medium.com/pal...</td>\n",
       "      <td>Vegkart</td>\n",
       "    </tr>\n",
       "    <tr>\n",
       "      <th>920</th>\n",
       "      <td>h2. Observasjon\\r\\n\\r\\nÅpne Vegkart. Legg til ...</td>\n",
       "      <td>Vegkart</td>\n",
       "    </tr>\n",
       "    <tr>\n",
       "      <th>921</th>\n",
       "      <td>h2. Observasjon\\r\\n\\r\\nPrøver å fjerne en egen...</td>\n",
       "      <td>Datafangst</td>\n",
       "    </tr>\n",
       "    <tr>\n",
       "      <th>922</th>\n",
       "      <td>h2. Observasjon\\r\\n\\r\\nHent opp url med id for...</td>\n",
       "      <td>Vegkart</td>\n",
       "    </tr>\n",
       "    <tr>\n",
       "      <th>923</th>\n",
       "      <td>h2. Observasjon\\r\\n\\r\\nEndringssettene\\r\\n\\r\\n...</td>\n",
       "      <td>Skriv-API</td>\n",
       "    </tr>\n",
       "  </tbody>\n",
       "</table>\n",
       "<p>924 rows × 2 columns</p>\n",
       "</div>"
      ],
      "text/plain": [
       "                                                  text       label\n",
       "0    Som bruker av Datafangst\\r\\n\\r\\nønsker jeg å k...  Datafangst\n",
       "1    Jeg lager en sak her for å ha en utviklersak s...     Les-API\n",
       "2    Ved import av objekter med sensitive egenskape...  Datafangst\n",
       "3    Som bruker av Vegkart-eskport\\r\\n\\r\\nopplever ...     Eksport\n",
       "4    Årsaken til at vi ser etter en måte å få et ko...     Les-API\n",
       "..                                                 ...         ...\n",
       "919  TS-lint er deprecated: [https://medium.com/pal...     Vegkart\n",
       "920  h2. Observasjon\\r\\n\\r\\nÅpne Vegkart. Legg til ...     Vegkart\n",
       "921  h2. Observasjon\\r\\n\\r\\nPrøver å fjerne en egen...  Datafangst\n",
       "922  h2. Observasjon\\r\\n\\r\\nHent opp url med id for...     Vegkart\n",
       "923  h2. Observasjon\\r\\n\\r\\nEndringssettene\\r\\n\\r\\n...   Skriv-API\n",
       "\n",
       "[924 rows x 2 columns]"
      ]
     },
     "execution_count": 63,
     "metadata": {},
     "output_type": "execute_result"
    }
   ],
   "source": [
    "df = df.dropna().reset_index(drop=True)\n",
    "df"
   ]
  },
  {
   "cell_type": "code",
   "execution_count": 5,
   "id": "e5f716e8-e433-4a05-90b3-4530ec1167e1",
   "metadata": {},
   "outputs": [
    {
     "data": {
      "text/plain": [
       "\"h2. Observasjon\\r\\n\\r\\nÅpne Vegkart. Legg til område Trondheim. Fjern Trondheim. Feil\\r\\n{noformat}\\r\\nUncaught TypeError: Cannot read property 'roadNetState' of undefined\\r\\n{noformat}\""
      ]
     },
     "execution_count": 5,
     "metadata": {},
     "output_type": "execute_result"
    }
   ],
   "source": [
    "df.iloc[920].text"
   ]
  },
  {
   "cell_type": "markdown",
   "id": "45ca26a2-9f7d-45ac-a3dc-d96b3da4294a",
   "metadata": {},
   "source": [
    "## Mye rart i dataen her. Vask den!"
   ]
  },
  {
   "cell_type": "code",
   "execution_count": 66,
   "id": "e3c74a0d-7974-433f-9e2a-aaf6784bd854",
   "metadata": {},
   "outputs": [
    {
     "data": {
      "text/plain": [
       "<spacy.pipeline.sentencizer.Sentencizer at 0x18f1040cb80>"
      ]
     },
     "execution_count": 66,
     "metadata": {},
     "output_type": "execute_result"
    }
   ],
   "source": [
    "spacy_model = 'nb_core_news_lg'\n",
    "nlp = spacy.load(spacy_model)\n",
    "nlp.add_pipe('sentencizer')"
   ]
  },
  {
   "cell_type": "code",
   "execution_count": 67,
   "id": "a51f0df6-1d00-427f-89a7-1a0b443b617b",
   "metadata": {},
   "outputs": [],
   "source": [
    "strip_bracket = r'(?<=\\[).*?(?=\\])'\n",
    "strip_paren = r'(?<=\\().*?(?=\\))'\n",
    "strip_tag = r'(?<=\\<).*?(?=\\>)'\n",
    "valid_words = r'[^\\s\\-][\\w \\-]+[^\\s\\-]'\n",
    "\n",
    "def flat_map(xs):\n",
    "    ys = []\n",
    "    for x in xs:\n",
    "        ys.extend(x)\n",
    "    return ys\n",
    "\n",
    "def hyphen_no_date(word):\n",
    "    if '-' in word:\n",
    "        return word.split('-')[0].isalpha()\n",
    "    return word.isalnum()\n",
    "\n",
    "def clear_jira(text):\n",
    "    text = re.sub(strip_bracket, '', text)\n",
    "    text = re.sub(strip_paren, '', text)\n",
    "    text = re.sub(strip_tag, '', text)\n",
    "    text = ' '.join([w for w in text.splitlines() if len(w) > 0])\n",
    "    text = ' '.join(re.findall(valid_words, text))    \n",
    "    text = [w for w in text.split(' ') if hyphen_no_date(w)]\n",
    "    text = [w for w in text if w[0] != '!']  # avoid image tags (!image-hash)\n",
    "    \n",
    "    text = ' '.join(text)\n",
    "    return text\n",
    "\n",
    "def clean(row):\n",
    "    text = clear_jira(row.text)\n",
    "    doc = nlp(text)\n",
    "    row['text'] = text.lower()    \n",
    "    row['label'] = row['label'].lower()\n",
    "\n",
    "    return row\n",
    "\n",
    "df = df.apply(clean, axis=1)"
   ]
  },
  {
   "cell_type": "code",
   "execution_count": 72,
   "id": "067b4efb-bd57-48b1-b37d-68e127ca60c1",
   "metadata": {},
   "outputs": [
    {
     "data": {
      "text/plain": [
       "['vi må vurdere nye funksjoner i vegkart og trenger estimat for utvikling av historisk data legge til felt for å skrive inn dato som vegkart skal vise data i forhold sensitive innlogging for å vise sensitive ved første forsøk på å vise sensitiv kopi av vegkart med faglige filter mulighet for å filtrere basert på andre for eksempel vise alle trafikkulykker på veg med fartsgrense 60 eller',\n",
       " 'inn fra for fartsgrense filteret ønsker vi at man kan velge mindre og større nå er det kun og det er behov for å se vei med fartsgrense til og med 50km og tilsvarende fra og med 60km og legge til filtrering på større og mindre kontakt for å sjekke om ny filtrering dekker',\n",
       " 'datakatalogen lite er basert på v2 og delar av funksjonaliteten er alt ute av den må oppdaterast og endrast til ser to alternativ oppdatere dagens produkt til v3 og reparere knekt funksjonalitet utvikle ny versjon basert på dakat i',\n",
       " 'flytte changelog til ettersom gradle jobb i backend ikke er testes ikke funksjonelt',\n",
       " 'ny funksjonalitet i vegkart er å kunne søke direkte på en nvdb-id. vi bør ha en for velg gjerne en nvdb-id det allerede finnes opptak av i det som bør start vegkart skriv inn en nvdb-id sjekk at infoboks kommer opp med riktig nvdb-id sjekk at url inneholder nvdb-id velg zoom og verifiser at zoom-nivå er endret til mindre tall og at url fortsatt inneholder nvdb-id test start vegkart skriv inn en nvdb-id sjekk at infoboks kommer opp med riktig nvdb-id sjekk at url inneholder nvdb-id velg legg til i verifiser at aktuell type er lagt til i søket']"
      ]
     },
     "execution_count": 72,
     "metadata": {},
     "output_type": "execute_result"
    }
   ],
   "source": [
    "def get_texts_from_name(name, field='text'):\n",
    "    return list(df[(df.label.str.contains(name.lower()))][field])\n",
    "\n",
    "get_texts_from_name('vegkart')[:5]"
   ]
  },
  {
   "cell_type": "markdown",
   "id": "38f33481-5f2f-404d-a6d7-ede57a5f9158",
   "metadata": {},
   "source": [
    "## Dette ser bedre ut! Rydd opp enda mer :)\n",
    "- start med å fjerne labels med for få eksempler"
   ]
  },
  {
   "cell_type": "code",
   "execution_count": 75,
   "id": "bedcb78e-f5ae-42c9-aff1-92b1013347f3",
   "metadata": {},
   "outputs": [
    {
     "data": {
      "text/plain": [
       "datafangst          362\n",
       "les-api             172\n",
       "skriv-api           141\n",
       "vegkart              88\n",
       "rapportgenerator     72\n",
       "nvdb-ind             69\n",
       "eksport              16\n",
       "database              3\n",
       "datakontroll          1\n",
       "Name: label, dtype: int64"
      ]
     },
     "execution_count": 75,
     "metadata": {},
     "output_type": "execute_result"
    }
   ],
   "source": [
    "data.label.value_counts()"
   ]
  },
  {
   "cell_type": "code",
   "execution_count": 77,
   "id": "50b5f516-e563-4159-a05a-c4cef31e942e",
   "metadata": {},
   "outputs": [
    {
     "data": {
      "text/plain": [
       "datafangst          362\n",
       "les-api             172\n",
       "skriv-api           141\n",
       "vegkart              88\n",
       "rapportgenerator     72\n",
       "nvdb-ind             69\n",
       "Name: label, dtype: int64"
      ]
     },
     "execution_count": 77,
     "metadata": {},
     "output_type": "execute_result"
    }
   ],
   "source": [
    "THRESHOLD = 60\n",
    "labels = [x for x, y in data.label.value_counts().items() if y > THRESHOLD]\n",
    "data = data[data.label.isin(labels)]\n",
    "data.label.value_counts()"
   ]
  },
  {
   "cell_type": "markdown",
   "id": "173b9987-9a9c-4091-b644-3141bc2f2912",
   "metadata": {},
   "source": [
    "## Kategoriser dataen for å være snill med maskinlæringsmodeller"
   ]
  },
  {
   "cell_type": "code",
   "execution_count": null,
   "id": "1f7df8f9-9aa6-423d-9c9e-facce59e844a",
   "metadata": {
    "tags": []
   },
   "outputs": [],
   "source": [
    "def categorize_labels(row):\n",
    "    row['cats'] = { l : l == row.label for l in labels }\n",
    "    return row\n",
    "\n",
    "data = data.apply(categorize_labels, axis=1)\n",
    "data.drop(['label'], axis=1, inplace=True)\n",
    "data"
   ]
  },
  {
   "cell_type": "markdown",
   "id": "3f96b615-ac9e-4e3e-a7b6-1d694b8669bb",
   "metadata": {},
   "source": [
    "## Splitt opp i trening og valideringssett"
   ]
  },
  {
   "cell_type": "code",
   "execution_count": 81,
   "id": "b7104e2a-1608-4f45-b323-b597f310daf3",
   "metadata": {},
   "outputs": [
    {
     "data": {
      "text/html": [
       "<div>\n",
       "<style scoped>\n",
       "    .dataframe tbody tr th:only-of-type {\n",
       "        vertical-align: middle;\n",
       "    }\n",
       "\n",
       "    .dataframe tbody tr th {\n",
       "        vertical-align: top;\n",
       "    }\n",
       "\n",
       "    .dataframe thead th {\n",
       "        text-align: right;\n",
       "    }\n",
       "</style>\n",
       "<table border=\"1\" class=\"dataframe\">\n",
       "  <thead>\n",
       "    <tr style=\"text-align: right;\">\n",
       "      <th></th>\n",
       "      <th>text</th>\n",
       "      <th>cats</th>\n",
       "    </tr>\n",
       "  </thead>\n",
       "  <tbody>\n",
       "    <tr>\n",
       "      <th>41</th>\n",
       "      <td>av nvdb-6455 legg til sjekk at en kan søke på ...</td>\n",
       "      <td>{'datafangst': True, 'les-api': False, 'skriv-...</td>\n",
       "    </tr>\n",
       "    <tr>\n",
       "      <th>570</th>\n",
       "      <td>universell kunne bruke mellomrom til å velge f...</td>\n",
       "      <td>{'datafangst': False, 'les-api': False, 'skriv...</td>\n",
       "    </tr>\n",
       "    <tr>\n",
       "      <th>473</th>\n",
       "      <td>mail fra vi har registrert at det juni ble inn...</td>\n",
       "      <td>{'datafangst': False, 'les-api': True, 'skriv-...</td>\n",
       "    </tr>\n",
       "    <tr>\n",
       "      <th>731</th>\n",
       "      <td>det ser ut som det kun filtreres på så true vi...</td>\n",
       "      <td>{'datafangst': False, 'les-api': True, 'skriv-...</td>\n",
       "    </tr>\n",
       "    <tr>\n",
       "      <th>706</th>\n",
       "      <td>paus alle operasjoner mot solr dersom en eller...</td>\n",
       "      <td>{'datafangst': False, 'les-api': False, 'skriv...</td>\n",
       "    </tr>\n",
       "    <tr>\n",
       "      <th>...</th>\n",
       "      <td>...</td>\n",
       "      <td>...</td>\n",
       "    </tr>\n",
       "    <tr>\n",
       "      <th>589</th>\n",
       "      <td>bakgrunn datafangst og muligens andre klienter...</td>\n",
       "      <td>{'datafangst': False, 'les-api': False, 'skriv...</td>\n",
       "    </tr>\n",
       "    <tr>\n",
       "      <th>776</th>\n",
       "      <td>bakgrunn fra 2006 til i dag har vi brukt innle...</td>\n",
       "      <td>{'datafangst': False, 'les-api': False, 'skriv...</td>\n",
       "    </tr>\n",
       "    <tr>\n",
       "      <th>462</th>\n",
       "      <td>det er nå tydelig at det trengs et statusfelt ...</td>\n",
       "      <td>{'datafangst': False, 'les-api': True, 'skriv-...</td>\n",
       "    </tr>\n",
       "    <tr>\n",
       "      <th>260</th>\n",
       "      <td>observasjon har vegsystemreferanse med et vegs...</td>\n",
       "      <td>{'datafangst': False, 'les-api': True, 'skriv-...</td>\n",
       "    </tr>\n",
       "    <tr>\n",
       "      <th>93</th>\n",
       "      <td>riksvegruter og gate mangler i dataene er så d...</td>\n",
       "      <td>{'datafangst': False, 'les-api': True, 'skriv-...</td>\n",
       "    </tr>\n",
       "  </tbody>\n",
       "</table>\n",
       "<p>181 rows × 2 columns</p>\n",
       "</div>"
      ],
      "text/plain": [
       "                                                  text  \\\n",
       "41   av nvdb-6455 legg til sjekk at en kan søke på ...   \n",
       "570  universell kunne bruke mellomrom til å velge f...   \n",
       "473  mail fra vi har registrert at det juni ble inn...   \n",
       "731  det ser ut som det kun filtreres på så true vi...   \n",
       "706  paus alle operasjoner mot solr dersom en eller...   \n",
       "..                                                 ...   \n",
       "589  bakgrunn datafangst og muligens andre klienter...   \n",
       "776  bakgrunn fra 2006 til i dag har vi brukt innle...   \n",
       "462  det er nå tydelig at det trengs et statusfelt ...   \n",
       "260  observasjon har vegsystemreferanse med et vegs...   \n",
       "93   riksvegruter og gate mangler i dataene er så d...   \n",
       "\n",
       "                                                  cats  \n",
       "41   {'datafangst': True, 'les-api': False, 'skriv-...  \n",
       "570  {'datafangst': False, 'les-api': False, 'skriv...  \n",
       "473  {'datafangst': False, 'les-api': True, 'skriv-...  \n",
       "731  {'datafangst': False, 'les-api': True, 'skriv-...  \n",
       "706  {'datafangst': False, 'les-api': False, 'skriv...  \n",
       "..                                                 ...  \n",
       "589  {'datafangst': False, 'les-api': False, 'skriv...  \n",
       "776  {'datafangst': False, 'les-api': False, 'skriv...  \n",
       "462  {'datafangst': False, 'les-api': True, 'skriv-...  \n",
       "260  {'datafangst': False, 'les-api': True, 'skriv-...  \n",
       "93   {'datafangst': False, 'les-api': True, 'skriv-...  \n",
       "\n",
       "[181 rows x 2 columns]"
      ]
     },
     "execution_count": 81,
     "metadata": {},
     "output_type": "execute_result"
    }
   ],
   "source": [
    "from sklearn.model_selection import train_test_split\n",
    "train, test = train_test_split(data, test_size=0.2)\n",
    "test"
   ]
  },
  {
   "cell_type": "code",
   "execution_count": 29,
   "id": "46e26248-98a5-463b-ad01-b2e22c77be8d",
   "metadata": {},
   "outputs": [],
   "source": [
    "def make_docs(data):   \n",
    "    docs = []\n",
    "    # nlp.pipe([texts]) is way faster than running nlp(text) for each text\n",
    "    # as_tuples allows us to pass in a tuple, the first one is treated as text\n",
    "    # the second one will get returned as it is.\n",
    "    for doc, label in nlp.pipe(data, as_tuples=True):\n",
    "        doc.cats = label\n",
    "        # put them into a nice list\n",
    "        docs.append(doc)\n",
    "    \n",
    "    return docs"
   ]
  },
  {
   "cell_type": "code",
   "execution_count": 30,
   "id": "62dcb889-0ab5-41e8-b8b4-e69d8b06356d",
   "metadata": {},
   "outputs": [],
   "source": [
    "from spacy.tokens import DocBin"
   ]
  },
  {
   "cell_type": "code",
   "execution_count": 33,
   "id": "5aa4c1d6-0dfe-4923-a79b-06bd14d81ba0",
   "metadata": {},
   "outputs": [],
   "source": [
    "_test = list(zip(test.text.tolist(), test.cats.tolist()))\n",
    "_train = list(zip(train.text.tolist(), train.cats.tolist()))\n",
    "\n",
    "train_docs = make_docs(_train)\n",
    "test_docs = make_docs(_test)"
   ]
  },
  {
   "cell_type": "code",
   "execution_count": 34,
   "id": "eb5cf1c2-4a99-4075-82df-3dcb02fd33df",
   "metadata": {},
   "outputs": [],
   "source": [
    "doc_bin = DocBin(docs=train_docs)\n",
    "doc_bin.to_disk(\"./data/train.spacy\")"
   ]
  },
  {
   "cell_type": "code",
   "execution_count": 37,
   "id": "1d4e2e96-2668-4fb3-9594-f17a3722dfd8",
   "metadata": {},
   "outputs": [],
   "source": [
    "doc_bin = DocBin(docs=test_docs)\n",
    "doc_bin.to_disk(\"./data/valid.spacy\")"
   ]
  },
  {
   "cell_type": "code",
   "execution_count": 38,
   "id": "1d8b3070-132f-4e6a-9323-4ee13524435d",
   "metadata": {},
   "outputs": [
    {
     "name": "stdout",
     "output_type": "stream",
     "text": [
      "type : ‘quit’ to exit\n"
     ]
    },
    {
     "name": "stdin",
     "output_type": "stream",
     "text": [
      "Please enter example input:  vegkart\n"
     ]
    },
    {
     "name": "stdout",
     "output_type": "stream",
     "text": [
      "{'datafangst': 0.3518565595149994, 'les-api': 0.44431495666503906, 'skriv-api': 0.3457692861557007, 'vegkart': 0.5625988841056824, 'rapportgenerator': 0.4080062210559845, 'nvdb-ind': 0.38103434443473816}\n"
     ]
    },
    {
     "name": "stdin",
     "output_type": "stream",
     "text": [
      "Please enter example input:  quit\n"
     ]
    },
    {
     "name": "stdout",
     "output_type": "stream",
     "text": [
      "{'datafangst': 0.45040658116340637, 'les-api': 0.4717670679092407, 'skriv-api': 0.42499011754989624, 'vegkart': 0.4449041485786438, 'rapportgenerator': 0.4561050832271576, 'nvdb-ind': 0.45095202326774597}\n"
     ]
    }
   ],
   "source": [
    "nlp = spacy.load(\"output/model-best\")\n",
    "text = \"\"\n",
    "print(\"type : ‘quit’ to exit\")\n",
    "# predict the sentiment until someone writes quit\n",
    "while text != \"quit\":\n",
    "    text = input(\"Skriv noe for : \")\n",
    "    doc = nlp(text)\n",
    "    print(doc.cats)"
   ]
  },
  {
   "cell_type": "code",
   "execution_count": 39,
   "id": "f9a27e56-d348-4dbd-b62e-ebe6f5d56ba6",
   "metadata": {},
   "outputs": [],
   "source": [
    "x = {'datafangst': 0.3518565595149994, 'les-api': 0.44431495666503906, 'skriv-api': 0.3457692861557007, 'vegkart': 0.5625988841056824, 'rapportgenerator': 0.4080062210559845, 'nvdb-ind': 0.38103434443473816}"
   ]
  },
  {
   "cell_type": "code",
   "execution_count": 40,
   "id": "f27df94c-1ffd-434e-92dc-e165a22f0d36",
   "metadata": {},
   "outputs": [
    {
     "data": {
      "text/plain": [
       "{'datafangst': 0.3518565595149994,\n",
       " 'les-api': 0.44431495666503906,\n",
       " 'skriv-api': 0.3457692861557007,\n",
       " 'vegkart': 0.5625988841056824,\n",
       " 'rapportgenerator': 0.4080062210559845,\n",
       " 'nvdb-ind': 0.38103434443473816}"
      ]
     },
     "execution_count": 40,
     "metadata": {},
     "output_type": "execute_result"
    }
   ],
   "source": [
    "x"
   ]
  },
  {
   "cell_type": "code",
   "execution_count": null,
   "id": "971d026d-4e5e-4c69-81aa-b1928c3a1af3",
   "metadata": {},
   "outputs": [],
   "source": []
  }
 ],
 "metadata": {
  "kernelspec": {
   "display_name": "Python 3 (ipykernel)",
   "language": "python",
   "name": "python3"
  },
  "language_info": {
   "codemirror_mode": {
    "name": "ipython",
    "version": 3
   },
   "file_extension": ".py",
   "mimetype": "text/x-python",
   "name": "python",
   "nbconvert_exporter": "python",
   "pygments_lexer": "ipython3",
   "version": "3.8.6"
  }
 },
 "nbformat": 4,
 "nbformat_minor": 5
}
