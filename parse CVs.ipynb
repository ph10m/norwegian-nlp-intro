{
 "cells": [
  {
   "cell_type": "code",
   "execution_count": 1,
   "id": "31401510-a44a-417b-8b89-35e3a283fb17",
   "metadata": {},
   "outputs": [],
   "source": [
    "# -*- coding: utf-8 -*-"
   ]
  },
  {
   "cell_type": "code",
   "execution_count": 2,
   "id": "cb1c5569-80ad-49a3-813b-d7671645bed3",
   "metadata": {},
   "outputs": [],
   "source": [
    "import pandas as pd\n",
    "import numpy as np\n",
    "import matplotlib.pyplot as plt\n",
    "import spacy"
   ]
  },
  {
   "cell_type": "code",
   "execution_count": 3,
   "id": "9379adad-a30e-41d6-a389-0d14d13b2fd0",
   "metadata": {},
   "outputs": [],
   "source": [
    "import os\n",
    "import sys"
   ]
  },
  {
   "cell_type": "markdown",
   "id": "434cd9e9-7625-4901-8d7a-0e01dab22df2",
   "metadata": {},
   "source": [
    "## Handle the CV files"
   ]
  },
  {
   "cell_type": "code",
   "execution_count": 4,
   "id": "cccf32d4-7af4-4d5b-97af-7aad7339730d",
   "metadata": {},
   "outputs": [],
   "source": [
    "cv_path = os.path.join(os.getcwd(), 'data', 'sharepoint', 'cv')\n",
    "cvs = os.listdir(cv_path)"
   ]
  },
  {
   "cell_type": "code",
   "execution_count": 5,
   "id": "b818311c-50fd-48a2-8b0a-c3ebaf57f35d",
   "metadata": {},
   "outputs": [],
   "source": [
    "def get_cv(i):\n",
    "    return os.path.join(cv_path, cvs[i])"
   ]
  },
  {
   "cell_type": "code",
   "execution_count": 6,
   "id": "ec9c8728-3466-4de5-8a19-56f410556020",
   "metadata": {},
   "outputs": [
    {
     "data": {
      "text/plain": [
       "'C:\\\\Users\\\\tollef\\\\Documents\\\\Git\\\\nlp-intro\\\\data\\\\sharepoint\\\\cv\\\\albert danielsen.txt'"
      ]
     },
     "execution_count": 6,
     "metadata": {},
     "output_type": "execute_result"
    }
   ],
   "source": [
    "example = get_cv(0)\n",
    "example"
   ]
  },
  {
   "cell_type": "markdown",
   "id": "60a0c64d-752f-4179-86f1-3de184384e1e",
   "metadata": {},
   "source": [
    "## Fetch and cleandata"
   ]
  },
  {
   "cell_type": "code",
   "execution_count": 7,
   "id": "2c2d11e0-af30-4f9d-9b91-d05c6f4239eb",
   "metadata": {},
   "outputs": [
    {
     "data": {
      "text/plain": [
       "<spacy.pipeline.sentencizer.Sentencizer at 0x166fb4b5400>"
      ]
     },
     "execution_count": 7,
     "metadata": {},
     "output_type": "execute_result"
    }
   ],
   "source": [
    "# prepare spacy nlp object\n",
    "spacy_model = 'nb_core_news_lg'\n",
    "nlp = spacy.load(spacy_model, disable = ['parser', 'tagger', 'ner'])\n",
    "nlp.add_pipe('sentencizer')"
   ]
  },
  {
   "cell_type": "code",
   "execution_count": 8,
   "id": "daeab1a3-9a9d-4a73-9489-10bc1226cdda",
   "metadata": {},
   "outputs": [],
   "source": [
    "data = None\n",
    "with open(example, 'r', encoding='utf-8') as f:\n",
    "    data = f.readlines()"
   ]
  },
  {
   "cell_type": "code",
   "execution_count": 9,
   "id": "b8fc6bc1-93cd-4057-8b8e-1c7366595af0",
   "metadata": {},
   "outputs": [],
   "source": [
    "def get_tokens(text):\n",
    "    skip_pattern = '\\r\\n \\n\\n \\n\\n\\n!\"-#$%&()--.*+,-./:;<=>?@[\\\\]^_`{|}~\\t\\n\\r '\n",
    "    return [token for token in text if token not in skip_pattern]\n",
    "\n",
    "def clean_sent(sent):\n",
    "    illegal = ['\\n', '\\t', '.', ':']\n",
    "    def valid(tok):\n",
    "        return tok not in illegal\n",
    "    \n",
    "    return ' '.join([tok for tok in sent.split(' ') if valid(tok)])\n",
    "    \n",
    "\n",
    "# combine all data, use the spacy sentencizer\n",
    "def get_sentences(data):\n",
    "    sentences = [clean_sent(sent).strip() for sent in data]\n",
    "    return '. '.join(sentences).strip()"
   ]
  },
  {
   "cell_type": "code",
   "execution_count": 10,
   "id": "8cdcbbfe-e436-4d13-a92a-63e46f572b06",
   "metadata": {},
   "outputs": [
    {
     "name": "stdout",
     "output_type": "stream",
     "text": [
      "Albert er en svilingeniør innen kybernetikk og robotikk, utdannet ved NTNU, med spesialisering innen embedded systems. Han har opparbeidet seg bred erfaring innen programvareutvikling fra sine prosjekter hos tidligere arbeidsgivere og som konsulent.. . Nylig har Albert jobbet i et prosjekt for Altera Infrastructure, et stort skipsrederi, med mål om å digitalisere arbeidsflyten ved modifikasjoner på skip i drift. Hans bidrag i dette prosjektet består i front-end utvikling av en responsiv og brukervennlig løsning i Vue, samt back-end utvikling i .NET Core i et domain driven design-mønster. Gjennomførelsen av prosjektet ble gjort ved bruk av Azure DevOps og agile arbeidsmetoder.. . Tidligere har Albert bidratt på et stort prosjekt for Sjøfartsdirektoratet. Prosjektet, titulert APS (Automatisering av Personell Sertifikat), tok sikte på å automatisere registrering og utdeling av sertifikater til sjøfolk som opererer i norske farvann. Løsningen ble utviklet med React, Azure Functions og message queues, med en microservice-arkitektur.. . Alberts kompetanse inkluderer IoT-utvikling, programmering av mikrokontrollere og design av hardware og kretskort, kompetanse han har styrket ved praktisk gjennomføring av prosjekt og deltidsjobb for SINTEF, ved å utvikle hardware og software for et maskinelt kalibreringsverkøy for fjærstivhet og en modulær robotisk gripeenhet. Han også erfaring med AR/VR platformer og datavisualisering, gjennom sommerjobb hos Equinor. Mer spesifikt har han jobbet med Microsoft HoloLens, Samsung HMD Odyssey og PowerBI.. . Teknologier og verktøy Albert behersker og liker å arbeide med er bl.a.: Azure DevOps, .NET, Git, Vue, React, JavaScript, CSS, HTML, Power BI, Unity, SolidWorks, Autodesk Eagle, Python, C++ og Linux. Han holder sertifiseringer i: Azure Administrator, C# og HTML5, JavaScript, CSS3.. . Albert er en konsulent med lidenskap for digitaliseringsoppgaver og tar imot alle oppgaver med godt mot. Han finner mye glede i å samarbeide med andre, jobber alltid strukturert og brenner for å levere gode resultater.. . . . Page Break. Prosjektreferanser. . 2020-03 - 2020-09\tAltera Infrastructure. . Klient beskrivelse: En av de største skipsrederne i verdenProsjekt: ModifikasjonsdatabaseRolle og ansvar: Full stack utviklerOvertakelse av et eksisterende system og utviklingen av en ny løsning for gjennomføring av modifikasjoner på marine fartøy i drift. Systemet tillater brukere å foreslå, få innsyn i og følge opp viktige beslutninger som del av modifikasjoner på fartøy.Metode og teknologi: Agile DevOps, Azure DevOps, Azure, .NET, Vue, Bootstrap, Cypres. . . . 2019-09 - 2020-03\tTeekay Petrojarl AS. . Klient beskrivelse: En av de største skipseierne i verden.. . Prosjekt: Intern webside. . Rolle og ansvar: Full stack utvikler. . Ansvar inkluderer front end- og back end utvikling av en webapp kalt project portfolio. Løsningen muliggjør oppfølging av prosjekter i selskapet, og legger til rette for bedre informasjonsdeling på tvers av avdelinger.. . Metode og teknologi:  Vue, Bootstrap, .NET, DevOps. . . . 2019-11 - 2020-01\tSjøfartsdirektoratet (SDIR). . Klient beskrivelse: Statlig etat med ansvar for at kvalifikasjons- og sikkerhetsstandarder for skip i norske farvann blir møtt. . Prosjekt: Automatisk personellsertifikat (APS). . Rolle og ansvar: Full stack utvikler. . Ansvar inkluderer front end og back end utvikling av et system for automatisk utstedelse av sertifikater til skipspersonell gjennom en web portal.. . Metode og teknologi: React, .NET Core, DevOps. . 2018-09 - 2019-06\tSINTEF Sealab. . Klient beskrivelse: Et av europas største forskningsinstitutter. Avdelingen for robot- og visjonsystemer.. . Prosjekt: Dexterous gripping.. . Rolle og ansvar: Masteroppgave.. . Arbeidet foregikk i SINTEF prosjektet iProcess med å lage en finmotorisk robothånd for håndtering av deformerbare råvarer som fisk og tomat.. . Resultat: En robothånd med finmotoriske egenskaper.. . Metode og teknologi: C++, Python, FreeRTOS.. . . . 2018-09 - 2019-04\tHoff Handel. . Klient beskrivelse: Kjøpesenter i Trondheim.. . Prosjekt: Booking av lese-/arbeidsplass ved Sirkus Shopping.. . Rolle og ansvar: Utvikler.. . Ansvar for å lage modeller i backend i Django og nettsidefunksjonalitet og utseende i Vue. Hadde fokus på å oppfylle kundens ønsker og brukte scrum-metodikk for å gjennomføre prosjektet.. . Resultat: Webapplikasjon for booking av arbeidsplass.. . Metode og teknologi: Django, Python, Vue, Javascript, SQLite, Scrum.. . . . 2018-09 - 2019-03\tSINTEF Ocean. . Klient beskrivelse: Et av europas største forskningsinstitutter. Avdelingen for marinteknisk forskning.. . Prosjekt: Stivhetssjekker.. . Rolle og ansvar: Teknisk ansvarlig.. . Teknisk utførende i prosjektet ut ifra avtalt teknisk spesifikasjon, med oppgave å programmere en testrigg for avstiving og verifikasjon av stivhet i fortøyningsfjærer.. . Resultat: En automatisk og tidsbesparende rigg for testing av fortøyningsfjærer. Kunden fikk oppfylt sine krav og riggen brukes i dag i forskning.. . Metode og teknologi: Elektronikk, C++, Processing.. . . . 2018-06 - 2018-08\tEquinor. . Klient beskrivelse: Norsk olje- og energiselskap. Blant verdens 50 største selskaper i markedsverdi.. . Prosjekt: Digitaliseringsinitiativer i drift nord.. . Rolle og ansvar: Summer intern.. . Blant initiativene var digital feltarbeider; bruk av nettbrett og HoloLens i felt, digital tvilling; software modeller av fysiske anlegg og visualisering av data; live datafremstilling fra anlegg med Power BI. Brukte ingeniørfaglige metoder og lærte prosjektarbeid gjennom samarbeid med operasjonsenhetene i selskapet.. . Resultat: Interaktiv brukerguide for HoloLens, live Power BI dashboard og digitalt veikart. Dashboardet brukes i dag i vedlikeholdsavdelingen for å tilgjengeliggjøre data, mens brukerguiden brukes for å lære opp personell i bruk av HoloLens med digitale tvillinger.. . Metode og teknologi: Microsoft 365, Office 365, Power BI, Teams.. . . . . . Utdannelse. . 2017-01 - 2019-12\tM.Sc. Kybernetikk og robotikk – Tilpassede datasystemer. . NTNU. . 2014-01 - 2017-12\tB.Sc. Elektroingeniør - Automatisering. . NTNU. . . . Arbeidserfaring. . 2019-09\tCapgemini. . 2018-09 - 2019-03\tSINTEF Ocean. . 2018-06 - 2018-08\tEquinor. . 2013-07 - 2019-05\tCoop AS. . . . Kurs. . 2019-11\tSoftware Engineering Design Principles. . 2019-09 - 2019-10\tReact, Redux & Router Kurs. . . . Sertifiseringer. . MCSA - Web Applications. . 70-480: Programming in HTML5 with JavaScript and CSS3. . 70-483: Programming in C#. . 70-486: Developing ASP.NET MVC 4.5 Web Applications. . AZ-900: Microsoft Azure Fundamentals. . Microsoft Certified Azure Administrator Associate\n"
     ]
    }
   ],
   "source": [
    "text = get_sentences(data)\n",
    "print(text)"
   ]
  },
  {
   "cell_type": "code",
   "execution_count": 11,
   "id": "1482ea6d-6f89-4db0-81ae-e065012b1489",
   "metadata": {},
   "outputs": [
    {
     "data": {
      "text/plain": [
       "['Nylig har Albert jobbet i et prosjekt for Altera Infrastructure, et stort skipsrederi, med mål om å digitalisere arbeidsflyten ved modifikasjoner på skip i drift',\n",
       " 'Hans bidrag i dette prosjektet består i front-end utvikling av en responsiv og brukervennlig løsning i Vue, samt back-end utvikling i NET Core i et domain driven design-mønster',\n",
       " 'Prosjektet, titulert APS (Automatisering av Personell Sertifikat), tok sikte på å automatisere registrering og utdeling av sertifikater til sjøfolk som opererer i norske farvann',\n",
       " 'Alberts kompetanse inkluderer IoT-utvikling, programmering av mikrokontrollere og design av hardware og kretskort, kompetanse han har styrket ved praktisk gjennomføring av prosjekt og deltidsjobb for SINTEF, ved å utvikle hardware og software for et maskinelt kalibreringsverkøy for fjærstivhet og en modulær robotisk gripeenhet',\n",
       " 'Teknologier og verktøy Albert behersker og liker å arbeide med er bla: Azure DevOps, NET, Git, Vue, React, JavaScript, CSS, HTML, Power BI, Unity, SolidWorks, Autodesk Eagle, Python, C++ og Linux',\n",
       " 'Klient beskrivelse: En av de største skipsrederne i verdenProsjekt: ModifikasjonsdatabaseRolle og ansvar: Full stack utviklerOvertakelse av et eksisterende system og utviklingen av en ny løsning for gjennomføring av modifikasjoner på marine fartøy i drift',\n",
       " 'Teknisk utførende i prosjektet ut ifra avtalt teknisk spesifikasjon, med oppgave å programmere en testrigg for avstiving og verifikasjon av stivhet i fortøyningsfjærer',\n",
       " 'Blant initiativene var digital feltarbeider; bruk av nettbrett og HoloLens i felt, digital tvilling; software modeller av fysiske anlegg og visualisering av data; live datafremstilling fra anlegg med Power BI',\n",
       " 'Dashboardet brukes i dag i vedlikeholdsavdelingen for å tilgjengeliggjøre data, mens brukerguiden brukes for å lære opp personell i bruk av HoloLens med digitale tvillinger']"
      ]
     },
     "execution_count": 11,
     "metadata": {},
     "output_type": "execute_result"
    }
   ],
   "source": [
    "spacy_doc = nlp(text)\n",
    "MIN_LEN = 25\n",
    "sentences = [s.text.replace('.','').strip() for s in spacy_doc.sents if len(s) > MIN_LEN]\n",
    "sentences"
   ]
  },
  {
   "cell_type": "code",
   "execution_count": null,
   "id": "5834faf9-e822-42a7-a318-39e89de8bf69",
   "metadata": {},
   "outputs": [],
   "source": []
  }
 ],
 "metadata": {
  "kernelspec": {
   "display_name": "Python 3 (ipykernel)",
   "language": "python",
   "name": "python3"
  },
  "language_info": {
   "codemirror_mode": {
    "name": "ipython",
    "version": 3
   },
   "file_extension": ".py",
   "mimetype": "text/x-python",
   "name": "python",
   "nbconvert_exporter": "python",
   "pygments_lexer": "ipython3",
   "version": "3.8.6"
  }
 },
 "nbformat": 4,
 "nbformat_minor": 5
}
